{
 "cells": [
  {
   "cell_type": "markdown",
   "id": "a2927604-23d3-4678-b5b1-1e9e0e735d45",
   "metadata": {},
   "source": [
    "<img src=\"http://imgur.com/1ZcRyrc.png\" style=\"float: left; margin: 20px; height: 55px\">\n",
    "\n",
    "# Project 3: Coffee & Tea Subreddits Analysis - NLP"
   ]
  },
  {
   "cell_type": "markdown",
   "id": "3c2b834c-b5be-46eb-abd5-4a5de07f56eb",
   "metadata": {},
   "source": [
    "Note: This is a side notebook of the main notebooks covering the extraction of data :-\n",
    "1. [Library Imports & Functions Creation](#1.-Library-Imports-&-Functions-Creation)\n",
    "2. [Data Extraction from Reddit.com](#2.-Data-Extraction-from-Reddit.com)\n",
    "3. [Data Exportation to CSV](#3.-Data-Exportation-to-CSV)"
   ]
  },
  {
   "cell_type": "markdown",
   "id": "51ef39f4-ea3e-4412-84cc-7f17fd4eb084",
   "metadata": {},
   "source": [
    "## Side Notebook: Extraction of Coffee & Tea Datasets from Reddit.com"
   ]
  },
  {
   "cell_type": "markdown",
   "id": "1820bafd-6e2e-4b05-bf1f-220997840712",
   "metadata": {},
   "source": [
    "### 1. Library Imports & Function Creation"
   ]
  },
  {
   "cell_type": "code",
   "execution_count": 1,
   "id": "b875939e-d27a-4b01-90be-b77fa6b744d0",
   "metadata": {},
   "outputs": [],
   "source": [
    "import requests\n",
    "import pandas as pd\n",
    "import time\n",
    "import random"
   ]
  },
  {
   "cell_type": "code",
   "execution_count": 2,
   "id": "8084d7ab-6aa6-494c-bef5-b381a5604e90",
   "metadata": {},
   "outputs": [],
   "source": [
    "# for the extraction of posts\n",
    "def get_bfore_posts(url, subreddit, date, runs=60):\n",
    "    params = {'subreddit': subreddit, 'size' : 250, 'before': date}\n",
    "    reddit_subs = []\n",
    "    for i in range(runs):\n",
    "        res = requests.get(url, params)\n",
    "        if res.status_code != 200:\n",
    "            print(\"error\")\n",
    "        else:\n",
    "            reddit_extract = res.json()\n",
    "            reddit_subs += reddit_extract['data']\n",
    "            params['before'] = reddit_subs[-1]['created_utc']\n",
    "            time.sleep((random.randint(1, 3)))\n",
    "            print(f\"Run {i} has been completed.\")\n",
    "    return reddit_subs"
   ]
  },
  {
   "cell_type": "markdown",
   "id": "6d41b74a-2935-46cf-99ac-6fc8ca10c71a",
   "metadata": {},
   "source": [
    "### 2. Data Extraction from Reddit.com"
   ]
  },
  {
   "cell_type": "markdown",
   "id": "b83887dc-334e-4d06-a246-2f5b3e358219",
   "metadata": {},
   "source": [
    "We shall extract approx. 15000 posts from the Coffee and Tea subreddits respectively.\n",
    "\n",
    "The timeframe is before 1 Oct 2022, UTC. "
   ]
  },
  {
   "cell_type": "code",
   "execution_count": 10,
   "id": "0ff14f0c-80bd-4f1c-a93d-5f87be9e6519",
   "metadata": {},
   "outputs": [],
   "source": [
    "# url to extract from\n",
    "api_url = 'https://api.pushshift.io/reddit/search/submission'"
   ]
  },
  {
   "cell_type": "code",
   "execution_count": 4,
   "id": "0cbfd770-37dd-4064-91a9-ad68c886a81c",
   "metadata": {},
   "outputs": [
    {
     "name": "stdout",
     "output_type": "stream",
     "text": [
      "Run 0 has been completed.\n",
      "Run 1 has been completed.\n",
      "Run 2 has been completed.\n",
      "Run 3 has been completed.\n",
      "Run 4 has been completed.\n",
      "Run 5 has been completed.\n",
      "Run 6 has been completed.\n",
      "Run 7 has been completed.\n",
      "Run 8 has been completed.\n",
      "Run 9 has been completed.\n",
      "Run 10 has been completed.\n",
      "Run 11 has been completed.\n",
      "Run 12 has been completed.\n",
      "Run 13 has been completed.\n",
      "Run 14 has been completed.\n",
      "Run 15 has been completed.\n",
      "Run 16 has been completed.\n",
      "Run 17 has been completed.\n",
      "Run 18 has been completed.\n",
      "Run 19 has been completed.\n",
      "Run 20 has been completed.\n",
      "Run 21 has been completed.\n",
      "Run 22 has been completed.\n",
      "Run 23 has been completed.\n",
      "Run 24 has been completed.\n",
      "Run 25 has been completed.\n",
      "Run 26 has been completed.\n",
      "Run 27 has been completed.\n",
      "Run 28 has been completed.\n",
      "Run 29 has been completed.\n",
      "Run 30 has been completed.\n",
      "Run 31 has been completed.\n",
      "Run 32 has been completed.\n",
      "Run 33 has been completed.\n",
      "Run 34 has been completed.\n",
      "Run 35 has been completed.\n",
      "Run 36 has been completed.\n",
      "Run 37 has been completed.\n",
      "Run 38 has been completed.\n",
      "Run 39 has been completed.\n",
      "Run 40 has been completed.\n",
      "Run 41 has been completed.\n",
      "Run 42 has been completed.\n",
      "Run 43 has been completed.\n",
      "Run 44 has been completed.\n",
      "Run 45 has been completed.\n",
      "Run 46 has been completed.\n",
      "Run 47 has been completed.\n",
      "Run 48 has been completed.\n",
      "Run 49 has been completed.\n",
      "Run 50 has been completed.\n",
      "Run 51 has been completed.\n",
      "Run 52 has been completed.\n",
      "Run 53 has been completed.\n",
      "Run 54 has been completed.\n",
      "Run 55 has been completed.\n",
      "Run 56 has been completed.\n",
      "Run 57 has been completed.\n",
      "Run 58 has been completed.\n",
      "Run 59 has been completed.\n"
     ]
    }
   ],
   "source": [
    "coffee_data = get_bfore_posts(api_url, 'Coffee', 1664582400)"
   ]
  },
  {
   "cell_type": "code",
   "execution_count": 5,
   "id": "76e8137e-e897-4323-9097-e405a3ace373",
   "metadata": {},
   "outputs": [],
   "source": [
    "# Storing into a dataframe\n",
    "coffee_df = pd.DataFrame(coffee_data)"
   ]
  },
  {
   "cell_type": "code",
   "execution_count": 6,
   "id": "21612128-8ff4-4571-a672-cf703b78b8c8",
   "metadata": {},
   "outputs": [
    {
     "name": "stdout",
     "output_type": "stream",
     "text": [
      "Run 0 has been completed.\n",
      "Run 1 has been completed.\n",
      "Run 2 has been completed.\n",
      "Run 3 has been completed.\n",
      "Run 4 has been completed.\n",
      "Run 5 has been completed.\n",
      "Run 6 has been completed.\n",
      "Run 7 has been completed.\n",
      "Run 8 has been completed.\n",
      "Run 9 has been completed.\n",
      "Run 10 has been completed.\n",
      "Run 11 has been completed.\n",
      "Run 12 has been completed.\n",
      "Run 13 has been completed.\n",
      "Run 14 has been completed.\n",
      "Run 15 has been completed.\n",
      "Run 16 has been completed.\n",
      "Run 17 has been completed.\n",
      "Run 18 has been completed.\n",
      "Run 19 has been completed.\n",
      "Run 20 has been completed.\n",
      "Run 21 has been completed.\n",
      "Run 22 has been completed.\n",
      "Run 23 has been completed.\n",
      "Run 24 has been completed.\n",
      "Run 25 has been completed.\n",
      "Run 26 has been completed.\n",
      "Run 27 has been completed.\n",
      "Run 28 has been completed.\n",
      "Run 29 has been completed.\n",
      "Run 30 has been completed.\n",
      "Run 31 has been completed.\n",
      "Run 32 has been completed.\n",
      "Run 33 has been completed.\n",
      "Run 34 has been completed.\n",
      "Run 35 has been completed.\n",
      "Run 36 has been completed.\n",
      "Run 37 has been completed.\n",
      "Run 38 has been completed.\n",
      "Run 39 has been completed.\n",
      "Run 40 has been completed.\n",
      "Run 41 has been completed.\n",
      "Run 42 has been completed.\n",
      "Run 43 has been completed.\n",
      "Run 44 has been completed.\n",
      "Run 45 has been completed.\n",
      "Run 46 has been completed.\n",
      "Run 47 has been completed.\n",
      "Run 48 has been completed.\n",
      "Run 49 has been completed.\n",
      "Run 50 has been completed.\n",
      "Run 51 has been completed.\n",
      "Run 52 has been completed.\n",
      "Run 53 has been completed.\n",
      "Run 54 has been completed.\n",
      "Run 55 has been completed.\n",
      "Run 56 has been completed.\n",
      "Run 57 has been completed.\n",
      "Run 58 has been completed.\n",
      "Run 59 has been completed.\n"
     ]
    }
   ],
   "source": [
    "tea_data = get_bfore_posts(api_url, 'tea', 1664582400)"
   ]
  },
  {
   "cell_type": "code",
   "execution_count": 7,
   "id": "1657d3da-0191-4d46-a809-6892456ff7f9",
   "metadata": {},
   "outputs": [],
   "source": [
    "# Storing into a dataframe\n",
    "tea_df = pd.DataFrame(tea_data)"
   ]
  },
  {
   "cell_type": "markdown",
   "id": "cbc14303-0248-4fe7-a841-28dfa80b76f3",
   "metadata": {},
   "source": [
    "### 3. Data Exportation to CSV"
   ]
  },
  {
   "cell_type": "markdown",
   "id": "e0aa2fc1-dc6d-43c1-9f96-8b451bdb2671",
   "metadata": {},
   "source": [
    "We shall export the datasets into csv files for analysis."
   ]
  },
  {
   "cell_type": "code",
   "execution_count": 8,
   "id": "513350c5-97fd-4cc5-af8b-23c05328e746",
   "metadata": {},
   "outputs": [],
   "source": [
    "coffee_df.to_csv('coffee_data.csv', index = False)"
   ]
  },
  {
   "cell_type": "code",
   "execution_count": 9,
   "id": "70a66def-fe5d-47b9-9413-1b2851f72b07",
   "metadata": {},
   "outputs": [],
   "source": [
    "tea_df.to_csv('tea_data.csv', index = False)"
   ]
  }
 ],
 "metadata": {
  "kernelspec": {
   "display_name": "Python 3 (ipykernel)",
   "language": "python",
   "name": "python3"
  },
  "language_info": {
   "codemirror_mode": {
    "name": "ipython",
    "version": 3
   },
   "file_extension": ".py",
   "mimetype": "text/x-python",
   "name": "python",
   "nbconvert_exporter": "python",
   "pygments_lexer": "ipython3",
   "version": "3.8.13"
  }
 },
 "nbformat": 4,
 "nbformat_minor": 5
}
