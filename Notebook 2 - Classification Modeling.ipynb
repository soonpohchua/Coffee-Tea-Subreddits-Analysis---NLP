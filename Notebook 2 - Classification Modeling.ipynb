{
 "cells": [
  {
   "cell_type": "markdown",
   "id": "8e63a717-b2b5-49be-bcad-ced66e4ab8bb",
   "metadata": {},
   "source": [
    "<img src=\"http://imgur.com/1ZcRyrc.png\" style=\"float: left; margin: 20px; height: 55px\">\n",
    "\n",
    "# Project 3: Coffee & Tea Subreddits Analysis - NLP"
   ]
  },
  {
   "cell_type": "markdown",
   "id": "ab28088d-170c-4b18-9152-d7e672668ecd",
   "metadata": {},
   "source": [
    "Note: This is part 2 of the code notebook covering the following:-\n",
    "1. [Library Imports & Functions Creation](#1.-Library-Imports-&-Functions-Creation)\n",
    "2. [Preparation for Modeling](#2.-Preparation-for-Modeling)\n",
    "3. [Baseline Model: Naives Bayes](#3.-Baseline-Model:-Naives-Bayes)\n",
    "4. [Rerunning Baseline Models: NB, KNN, Random Forest & Log Reg](#4.-Rerunning-Baseline-Models:-NB,-KNN,-Random-Forest-&-Log-Reg)\n",
    "5. [HyperPara Models: NB, KNN, Random Forest & Log Reg](#5.-HyperPara-Models:-NB,-KNN,-Random-Forest-&-Log-Reg)\n",
    "6. [Summary of Notebook 2](#6.-Summary-of-Notebook-2)"
   ]
  },
  {
   "cell_type": "markdown",
   "id": "235bfe3e-bfbf-4f10-8617-bdf1a7a72186",
   "metadata": {},
   "source": [
    "## 1. Library Imports & Functions Creation"
   ]
  },
  {
   "cell_type": "code",
   "execution_count": 1,
   "id": "54d3d3a8-3fba-465b-bf8c-bc29ab0d9586",
   "metadata": {},
   "outputs": [],
   "source": [
    "import pandas as pd\n",
    "import re   \n",
    "import matplotlib.pyplot as plt\n",
    "import nltk\n",
    "import numpy as np\n",
    "import warnings\n",
    "from nltk.tokenize import sent_tokenize, word_tokenize, RegexpTokenizer\n",
    "from nltk.stem.porter import PorterStemmer\n",
    "from nltk.corpus import stopwords\n",
    "from sklearn.ensemble import RandomForestClassifier, ExtraTreesClassifier\n",
    "from sklearn.feature_extraction.text import CountVectorizer, TfidfVectorizer\n",
    "from sklearn.linear_model import LogisticRegression\n",
    "from sklearn.metrics import confusion_matrix, ConfusionMatrixDisplay, accuracy_score, plot_roc_curve, roc_auc_score, recall_score, precision_score, f1_score, classification_report\n",
    "from sklearn.model_selection import train_test_split, GridSearchCV\n",
    "from sklearn.naive_bayes import MultinomialNB\n",
    "from sklearn.neighbors import KNeighborsClassifier\n",
    "from warnings import simplefilter"
   ]
  },
  {
   "cell_type": "code",
   "execution_count": 2,
   "id": "b5d11e32-fe6b-4986-a2c5-62e46f65e81a",
   "metadata": {},
   "outputs": [],
   "source": [
    "def stemming(x):\n",
    "    p_stemmer = PorterStemmer()\n",
    "    x = p_stemmer.stem(x)\n",
    "    return x"
   ]
  },
  {
   "cell_type": "code",
   "execution_count": 3,
   "id": "1b8b5340-04a8-4c78-9501-1708b95d2f45",
   "metadata": {},
   "outputs": [],
   "source": [
    "def obviouswords_cleaner(x):\n",
    "    x = x.split()\n",
    "    for i in obvious_words:\n",
    "        while i in x:\n",
    "            x.remove(i)\n",
    "    x = ' '.join(x)\n",
    "    return x"
   ]
  },
  {
   "cell_type": "code",
   "execution_count": 4,
   "id": "f9a7b221-7278-44fb-8216-0c939ab239f9",
   "metadata": {},
   "outputs": [],
   "source": [
    "def print_score(model, X_train, y_train, X_test, y_test):\n",
    "    print(f'{model} train score: {model.score(X_train, y_train):.3f}')\n",
    "    print(f'{model} train score: {model.score(X_test, y_test):.3f}')"
   ]
  },
  {
   "cell_type": "code",
   "execution_count": 5,
   "id": "66b07dab-c408-433e-ab4e-0f47bf06ff96",
   "metadata": {},
   "outputs": [],
   "source": [
    "def gridsearch_score(model, X_train, y_train, X_test, y_test):\n",
    "    print(f'Train score: {model.best_score_:.3f}')\n",
    "    print(f'Test score: {model.score(X_test, y_test):.3f}')\n",
    "    print(f'Best parameters: {model.best_params_}')"
   ]
  },
  {
   "cell_type": "markdown",
   "id": "860a1fec-1155-43d7-b0aa-a144dcee767f",
   "metadata": {},
   "source": [
    "## 2. Preparation for Modeling"
   ]
  },
  {
   "cell_type": "markdown",
   "id": "ad8377e8-d4c2-43cb-8437-485a89dad0dd",
   "metadata": {},
   "source": [
    "We shall prepare the datasets for modelling.\n",
    "\n",
    "The process is as follows:\n",
    "1. Import both datasets from notebook 1;\n",
    "2. Delete unnecessary columns;\n",
    "3. Combine both datasets;\n",
    "4. Impute 1 and 0 for Coffee and Tea under subreddit column; and \n",
    "5. Apply stemming before modelling.\n",
    "\n",
    "Note: The column 'text_cleaned', which will be used for modelling, has already been cleaned under notebook 1 for EDA. However, further cleaning is still required. The column was previously lemmatize in order to pick out common words. Stemming is still required in order to streamline the number of words generated from vectorization. "
   ]
  },
  {
   "cell_type": "code",
   "execution_count": 6,
   "id": "1b523323-2b35-45ad-98ec-2607200d5113",
   "metadata": {},
   "outputs": [],
   "source": [
    "# Importing datasets\n",
    "coffee_df = pd.read_csv('coffee_df_cleaned.csv')\n",
    "tea_df = pd.read_csv('tea_df_cleaned.csv')"
   ]
  },
  {
   "cell_type": "code",
   "execution_count": 7,
   "id": "9c7f6c94-f888-42c2-b954-d4372b798bdb",
   "metadata": {},
   "outputs": [],
   "source": [
    "# Drop unnecessary columns\n",
    "coffee_df.drop(columns = ['author', 'date_posted', 'text'], inplace = True)\n",
    "tea_df.drop(columns = ['author', 'date_posted', 'text'], inplace = True)"
   ]
  },
  {
   "cell_type": "code",
   "execution_count": 8,
   "id": "a157d742-f122-4de5-8b45-f632ba84941d",
   "metadata": {},
   "outputs": [],
   "source": [
    "# Combining both datasets\n",
    "coffee_tea_df = pd.concat([coffee_df,tea_df])"
   ]
  },
  {
   "cell_type": "code",
   "execution_count": 9,
   "id": "f73ecc35-48f6-44dd-999f-e21d293df78d",
   "metadata": {},
   "outputs": [],
   "source": [
    "# Impute 1, 0 for Coffee and Tea respectively\n",
    "coffee_tea_df = coffee_tea_df.replace({\"subreddit\" : {\"Coffee\" : 1, \"tea\" : 0}})"
   ]
  },
  {
   "cell_type": "code",
   "execution_count": 10,
   "id": "869fb9fe-10b4-40da-9e30-77e69554b837",
   "metadata": {},
   "outputs": [
    {
     "name": "stdout",
     "output_type": "stream",
     "text": [
      "There are 1 columns with missing values.\n",
      "\n"
     ]
    },
    {
     "data": {
      "text/html": [
       "<div>\n",
       "<style scoped>\n",
       "    .dataframe tbody tr th:only-of-type {\n",
       "        vertical-align: middle;\n",
       "    }\n",
       "\n",
       "    .dataframe tbody tr th {\n",
       "        vertical-align: top;\n",
       "    }\n",
       "\n",
       "    .dataframe thead th {\n",
       "        text-align: right;\n",
       "    }\n",
       "</style>\n",
       "<table border=\"1\" class=\"dataframe\">\n",
       "  <thead>\n",
       "    <tr style=\"text-align: right;\">\n",
       "      <th></th>\n",
       "      <th>col</th>\n",
       "      <th>num_nulls</th>\n",
       "      <th>%nulls</th>\n",
       "    </tr>\n",
       "  </thead>\n",
       "  <tbody>\n",
       "    <tr>\n",
       "      <th>1</th>\n",
       "      <td>text_cleaned</td>\n",
       "      <td>7</td>\n",
       "      <td>0.058577</td>\n",
       "    </tr>\n",
       "  </tbody>\n",
       "</table>\n",
       "</div>"
      ],
      "text/plain": [
       "            col  num_nulls    %nulls\n",
       "1  text_cleaned          7  0.058577"
      ]
     },
     "execution_count": 10,
     "metadata": {},
     "output_type": "execute_result"
    }
   ],
   "source": [
    "# Checking for missing values after streamlining data\n",
    "pd.DataFrame(coffee_tea_df.isna().sum())\n",
    "pd.DataFrame(coffee_tea_df.isna().sum()).reset_index()\n",
    "missing_df = pd.DataFrame(tea_df.isna().sum()).reset_index()\n",
    "missing_df.columns = ['col', 'num_nulls'] \n",
    "missing_df['%nulls'] = missing_df['num_nulls']*100/len(tea_df)\n",
    "missing_df = missing_df[missing_df['num_nulls']>0].sort_values(by=[\"%nulls\"], ascending=False)\n",
    "print(f'There are {len(missing_df)} columns with missing values.')\n",
    "print('')\n",
    "missing_df"
   ]
  },
  {
   "cell_type": "code",
   "execution_count": 11,
   "id": "c9e0ca5b-0d0d-4d9b-9168-0211b12809ca",
   "metadata": {},
   "outputs": [],
   "source": [
    "coffee_tea_df.dropna(inplace=True)\n",
    "coffee_tea_df.reset_index(drop=True, inplace=True)"
   ]
  },
  {
   "cell_type": "code",
   "execution_count": 12,
   "id": "902cab68-50c2-4c88-8111-6ba86e9c84f1",
   "metadata": {},
   "outputs": [],
   "source": [
    "# Applying stemming\n",
    "coffee_tea_df['text_cleaned'] = coffee_tea_df['text_cleaned'].apply(stemming)"
   ]
  },
  {
   "cell_type": "code",
   "execution_count": 13,
   "id": "812e95c1-c3f6-447b-a5e0-2b4b0bffcc8a",
   "metadata": {},
   "outputs": [
    {
     "data": {
      "text/html": [
       "<div>\n",
       "<style scoped>\n",
       "    .dataframe tbody tr th:only-of-type {\n",
       "        vertical-align: middle;\n",
       "    }\n",
       "\n",
       "    .dataframe tbody tr th {\n",
       "        vertical-align: top;\n",
       "    }\n",
       "\n",
       "    .dataframe thead th {\n",
       "        text-align: right;\n",
       "    }\n",
       "</style>\n",
       "<table border=\"1\" class=\"dataframe\">\n",
       "  <thead>\n",
       "    <tr style=\"text-align: right;\">\n",
       "      <th></th>\n",
       "      <th>subreddit</th>\n",
       "      <th>text_cleaned</th>\n",
       "    </tr>\n",
       "  </thead>\n",
       "  <tbody>\n",
       "    <tr>\n",
       "      <th>0</th>\n",
       "      <td>1</td>\n",
       "      <td>coffee reduces cardiovascular disease large po...</td>\n",
       "    </tr>\n",
       "    <tr>\n",
       "      <th>1</th>\n",
       "      <td>1</td>\n",
       "      <td>europeans get coffee stareuro</td>\n",
       "    </tr>\n",
       "    <tr>\n",
       "      <th>2</th>\n",
       "      <td>1</td>\n",
       "      <td>dark stormy coffee learning 12oz black coffee ...</td>\n",
       "    </tr>\n",
       "    <tr>\n",
       "      <th>3</th>\n",
       "      <td>1</td>\n",
       "      <td>learn roast coffee beans learning particular b...</td>\n",
       "    </tr>\n",
       "    <tr>\n",
       "      <th>4</th>\n",
       "      <td>1</td>\n",
       "      <td>roast</td>\n",
       "    </tr>\n",
       "    <tr>\n",
       "      <th>...</th>\n",
       "      <td>...</td>\n",
       "      <td>...</td>\n",
       "    </tr>\n",
       "    <tr>\n",
       "      <th>25376</th>\n",
       "      <td>0</td>\n",
       "      <td>favorite tea brands moved new city sadly go te...</td>\n",
       "    </tr>\n",
       "    <tr>\n",
       "      <th>25377</th>\n",
       "      <td>0</td>\n",
       "      <td>new ring mad hatter cosplay</td>\n",
       "    </tr>\n",
       "    <tr>\n",
       "      <th>25378</th>\n",
       "      <td>0</td>\n",
       "      <td>yummy tea break</td>\n",
       "    </tr>\n",
       "    <tr>\n",
       "      <th>25379</th>\n",
       "      <td>0</td>\n",
       "      <td>teacups youd love post without worry look love...</td>\n",
       "    </tr>\n",
       "    <tr>\n",
       "      <th>25380</th>\n",
       "      <td>0</td>\n",
       "      <td>tuesday morning always awesome flavors tri</td>\n",
       "    </tr>\n",
       "  </tbody>\n",
       "</table>\n",
       "<p>25381 rows × 2 columns</p>\n",
       "</div>"
      ],
      "text/plain": [
       "       subreddit                                       text_cleaned\n",
       "0              1  coffee reduces cardiovascular disease large po...\n",
       "1              1                      europeans get coffee stareuro\n",
       "2              1  dark stormy coffee learning 12oz black coffee ...\n",
       "3              1  learn roast coffee beans learning particular b...\n",
       "4              1                                              roast\n",
       "...          ...                                                ...\n",
       "25376          0  favorite tea brands moved new city sadly go te...\n",
       "25377          0                        new ring mad hatter cosplay\n",
       "25378          0                                    yummy tea break\n",
       "25379          0  teacups youd love post without worry look love...\n",
       "25380          0         tuesday morning always awesome flavors tri\n",
       "\n",
       "[25381 rows x 2 columns]"
      ]
     },
     "execution_count": 13,
     "metadata": {},
     "output_type": "execute_result"
    }
   ],
   "source": [
    "# Viewing dataset before modeling\n",
    "coffee_tea_df"
   ]
  },
  {
   "cell_type": "markdown",
   "id": "6c3f692a-c8b6-4c2b-b08a-75ea9fc135c6",
   "metadata": {},
   "source": [
    "## 3. Baseline Model: Naives Bayes"
   ]
  },
  {
   "cell_type": "code",
   "execution_count": 14,
   "id": "19b7c6a2-e2bd-4c86-b70d-48728365770a",
   "metadata": {},
   "outputs": [],
   "source": [
    "# Vectorization\n",
    "tfid = TfidfVectorizer(stop_words='english')\n",
    "coffee_tea_tfid = tfid.fit_transform(coffee_tea_df['text_cleaned'])"
   ]
  },
  {
   "cell_type": "code",
   "execution_count": 15,
   "id": "b81d16f6-30d0-4781-ad92-7a3abdbe727a",
   "metadata": {},
   "outputs": [],
   "source": [
    "# Making into a dataframe\n",
    "warnings.simplefilter(action='ignore', category=FutureWarning)\n",
    "coffee_tea_tfid = pd.DataFrame.sparse.from_spmatrix(coffee_tea_tfid, columns = tfid.get_feature_names())"
   ]
  },
  {
   "cell_type": "code",
   "execution_count": 16,
   "id": "8a0b9a1f-d1d2-4acc-bf84-88c9ede4c82b",
   "metadata": {},
   "outputs": [],
   "source": [
    "X = coffee_tea_tfid\n",
    "y = coffee_tea_df['subreddit']\n",
    "X_train, X_test, y_train, y_test = train_test_split(X, y, random_state = 42, stratify=y)"
   ]
  },
  {
   "cell_type": "code",
   "execution_count": 17,
   "id": "e7556412-3330-414a-b438-72f24bdd4c6e",
   "metadata": {},
   "outputs": [],
   "source": [
    "nb = MultinomialNB()\n",
    "naives = nb.fit(X_train, y_train)"
   ]
  },
  {
   "cell_type": "code",
   "execution_count": 18,
   "id": "6e5bcde0-75f5-4eed-83c8-957a1e4be0f8",
   "metadata": {},
   "outputs": [
    {
     "name": "stdout",
     "output_type": "stream",
     "text": [
      "MultinomialNB() train score: 0.962\n",
      "MultinomialNB() train score: 0.931\n"
     ]
    }
   ],
   "source": [
    "print_score(naives, X_train, y_train, X_test, y_test)"
   ]
  },
  {
   "cell_type": "markdown",
   "id": "4161b2fb-45d2-4ba2-b3ec-b3a39708a4cc",
   "metadata": {},
   "source": [
    "### Evaluation of Baseline Model\n",
    "\n",
    "1. With a train score of 0.962 and test score of 0.931, the naives bayes model is clearly performing well even though there is the issue of overfitting (approx 0.03). \n",
    "2. For classification model, a test score of 0.931 will mean that the model has a 93.1% accurancy in predicting if a post belongs to the coffee/tea subreddit. \n",
    "3. Given the high base model score, I will proceed to examine the obvious words based on the base model contributing to the high score. The rationale is that such words might not always be present in a post and removing them can provide more room for enchancement through selection of other models and applying hyperparameter tuning.\n",
    "4. To remove obvious words, I will list out the 30 best performing words for the prediction of coffee and tea subreddit respectively. Any words that intuitively lean towards either category shall be removed."
   ]
  },
  {
   "cell_type": "code",
   "execution_count": 19,
   "id": "e3c68f6f-02d9-45f5-811d-10982cba6747",
   "metadata": {},
   "outputs": [
    {
     "data": {
      "text/html": [
       "<div>\n",
       "<style scoped>\n",
       "    .dataframe tbody tr th:only-of-type {\n",
       "        vertical-align: middle;\n",
       "    }\n",
       "\n",
       "    .dataframe tbody tr th {\n",
       "        vertical-align: top;\n",
       "    }\n",
       "\n",
       "    .dataframe thead th {\n",
       "        text-align: right;\n",
       "    }\n",
       "</style>\n",
       "<table border=\"1\" class=\"dataframe\">\n",
       "  <thead>\n",
       "    <tr style=\"text-align: right;\">\n",
       "      <th></th>\n",
       "      <th>Features</th>\n",
       "      <th>Prob</th>\n",
       "    </tr>\n",
       "  </thead>\n",
       "  <tbody>\n",
       "    <tr>\n",
       "      <th>33341</th>\n",
       "      <td>tea</td>\n",
       "      <td>0.015159</td>\n",
       "    </tr>\n",
       "    <tr>\n",
       "      <th>33543</th>\n",
       "      <td>teas</td>\n",
       "      <td>0.002554</td>\n",
       "    </tr>\n",
       "    <tr>\n",
       "      <th>16141</th>\n",
       "      <td>green</td>\n",
       "      <td>0.002352</td>\n",
       "    </tr>\n",
       "    <tr>\n",
       "      <th>23390</th>\n",
       "      <td>new</td>\n",
       "      <td>0.001904</td>\n",
       "    </tr>\n",
       "    <tr>\n",
       "      <th>33519</th>\n",
       "      <td>teapot</td>\n",
       "      <td>0.001810</td>\n",
       "    </tr>\n",
       "    <tr>\n",
       "      <th>5817</th>\n",
       "      <td>black</td>\n",
       "      <td>0.001730</td>\n",
       "    </tr>\n",
       "    <tr>\n",
       "      <th>21598</th>\n",
       "      <td>matcha</td>\n",
       "      <td>0.001611</td>\n",
       "    </tr>\n",
       "    <tr>\n",
       "      <th>24359</th>\n",
       "      <td>oolong</td>\n",
       "      <td>0.001564</td>\n",
       "    </tr>\n",
       "    <tr>\n",
       "      <th>20195</th>\n",
       "      <td>leaf</td>\n",
       "      <td>0.001539</td>\n",
       "    </tr>\n",
       "    <tr>\n",
       "      <th>20835</th>\n",
       "      <td>loose</td>\n",
       "      <td>0.001424</td>\n",
       "    </tr>\n",
       "    <tr>\n",
       "      <th>17034</th>\n",
       "      <td>help</td>\n",
       "      <td>0.001420</td>\n",
       "    </tr>\n",
       "    <tr>\n",
       "      <th>10294</th>\n",
       "      <td>cup</td>\n",
       "      <td>0.001412</td>\n",
       "    </tr>\n",
       "    <tr>\n",
       "      <th>12130</th>\n",
       "      <td>drink</td>\n",
       "      <td>0.001405</td>\n",
       "    </tr>\n",
       "    <tr>\n",
       "      <th>20814</th>\n",
       "      <td>looking</td>\n",
       "      <td>0.001327</td>\n",
       "    </tr>\n",
       "    <tr>\n",
       "      <th>30167</th>\n",
       "      <td>set</td>\n",
       "      <td>0.001296</td>\n",
       "    </tr>\n",
       "    <tr>\n",
       "      <th>34238</th>\n",
       "      <td>time</td>\n",
       "      <td>0.001221</td>\n",
       "    </tr>\n",
       "    <tr>\n",
       "      <th>36613</th>\n",
       "      <td>water</td>\n",
       "      <td>0.001202</td>\n",
       "    </tr>\n",
       "    <tr>\n",
       "      <th>20904</th>\n",
       "      <td>love</td>\n",
       "      <td>0.001182</td>\n",
       "    </tr>\n",
       "    <tr>\n",
       "      <th>5541</th>\n",
       "      <td>best</td>\n",
       "      <td>0.001125</td>\n",
       "    </tr>\n",
       "    <tr>\n",
       "      <th>36518</th>\n",
       "      <td>want</td>\n",
       "      <td>0.001120</td>\n",
       "    </tr>\n",
       "    <tr>\n",
       "      <th>12143</th>\n",
       "      <td>drinking</td>\n",
       "      <td>0.001042</td>\n",
       "    </tr>\n",
       "    <tr>\n",
       "      <th>20249</th>\n",
       "      <td>leaves</td>\n",
       "      <td>0.001024</td>\n",
       "    </tr>\n",
       "    <tr>\n",
       "      <th>34864</th>\n",
       "      <td>tried</td>\n",
       "      <td>0.001010</td>\n",
       "    </tr>\n",
       "    <tr>\n",
       "      <th>22173</th>\n",
       "      <td>milk</td>\n",
       "      <td>0.000992</td>\n",
       "    </tr>\n",
       "    <tr>\n",
       "      <th>26222</th>\n",
       "      <td>pot</td>\n",
       "      <td>0.000989</td>\n",
       "    </tr>\n",
       "    <tr>\n",
       "      <th>27888</th>\n",
       "      <td>recommendations</td>\n",
       "      <td>0.000984</td>\n",
       "    </tr>\n",
       "    <tr>\n",
       "      <th>6479</th>\n",
       "      <td>brew</td>\n",
       "      <td>0.000962</td>\n",
       "    </tr>\n",
       "    <tr>\n",
       "      <th>14049</th>\n",
       "      <td>favorite</td>\n",
       "      <td>0.000958</td>\n",
       "    </tr>\n",
       "    <tr>\n",
       "      <th>33243</th>\n",
       "      <td>taste</td>\n",
       "      <td>0.000951</td>\n",
       "    </tr>\n",
       "    <tr>\n",
       "      <th>6931</th>\n",
       "      <td>buy</td>\n",
       "      <td>0.000950</td>\n",
       "    </tr>\n",
       "  </tbody>\n",
       "</table>\n",
       "</div>"
      ],
      "text/plain": [
       "              Features      Prob\n",
       "33341              tea  0.015159\n",
       "33543             teas  0.002554\n",
       "16141            green  0.002352\n",
       "23390              new  0.001904\n",
       "33519           teapot  0.001810\n",
       "5817             black  0.001730\n",
       "21598           matcha  0.001611\n",
       "24359           oolong  0.001564\n",
       "20195             leaf  0.001539\n",
       "20835            loose  0.001424\n",
       "17034             help  0.001420\n",
       "10294              cup  0.001412\n",
       "12130            drink  0.001405\n",
       "20814          looking  0.001327\n",
       "30167              set  0.001296\n",
       "34238             time  0.001221\n",
       "36613            water  0.001202\n",
       "20904             love  0.001182\n",
       "5541              best  0.001125\n",
       "36518             want  0.001120\n",
       "12143         drinking  0.001042\n",
       "20249           leaves  0.001024\n",
       "34864            tried  0.001010\n",
       "22173             milk  0.000992\n",
       "26222              pot  0.000989\n",
       "27888  recommendations  0.000984\n",
       "6479              brew  0.000962\n",
       "14049         favorite  0.000958\n",
       "33243            taste  0.000951\n",
       "6931               buy  0.000950"
      ]
     },
     "execution_count": 19,
     "metadata": {},
     "output_type": "execute_result"
    }
   ],
   "source": [
    "# Listing the 30 best performing words for coffee\n",
    "out_arr = pd.Series(naives.feature_log_prob_[0], index = coffee_tea_tfid.columns).to_frame()\n",
    "out_arr.sort_values(by=0, ascending=False)\n",
    "out_arr.reset_index(inplace=True)\n",
    "out_arr = out_arr.rename(columns={'index': 'Features', 0: 'Prob'})\n",
    "out_arr['Prob'] = np.exp(out_arr['Prob'])\n",
    "out_arr.sort_values(by='Prob', ascending=False).head(30)"
   ]
  },
  {
   "cell_type": "code",
   "execution_count": 20,
   "id": "c5be603f-8620-4aa3-9351-c5e19aecad5e",
   "metadata": {},
   "outputs": [
    {
     "data": {
      "text/html": [
       "<div>\n",
       "<style scoped>\n",
       "    .dataframe tbody tr th:only-of-type {\n",
       "        vertical-align: middle;\n",
       "    }\n",
       "\n",
       "    .dataframe tbody tr th {\n",
       "        vertical-align: top;\n",
       "    }\n",
       "\n",
       "    .dataframe thead th {\n",
       "        text-align: right;\n",
       "    }\n",
       "</style>\n",
       "<table border=\"1\" class=\"dataframe\">\n",
       "  <thead>\n",
       "    <tr style=\"text-align: right;\">\n",
       "      <th></th>\n",
       "      <th>Features</th>\n",
       "      <th>Prob</th>\n",
       "    </tr>\n",
       "  </thead>\n",
       "  <tbody>\n",
       "    <tr>\n",
       "      <th>8683</th>\n",
       "      <td>coffee</td>\n",
       "      <td>0.010750</td>\n",
       "    </tr>\n",
       "    <tr>\n",
       "      <th>16205</th>\n",
       "      <td>grinder</td>\n",
       "      <td>0.002871</td>\n",
       "    </tr>\n",
       "    <tr>\n",
       "      <th>13132</th>\n",
       "      <td>espresso</td>\n",
       "      <td>0.002774</td>\n",
       "    </tr>\n",
       "    <tr>\n",
       "      <th>21139</th>\n",
       "      <td>machine</td>\n",
       "      <td>0.002396</td>\n",
       "    </tr>\n",
       "    <tr>\n",
       "      <th>5262</th>\n",
       "      <td>beans</td>\n",
       "      <td>0.002366</td>\n",
       "    </tr>\n",
       "    <tr>\n",
       "      <th>6479</th>\n",
       "      <td>brew</td>\n",
       "      <td>0.002079</td>\n",
       "    </tr>\n",
       "    <tr>\n",
       "      <th>16196</th>\n",
       "      <td>grind</td>\n",
       "      <td>0.001956</td>\n",
       "    </tr>\n",
       "    <tr>\n",
       "      <th>8680</th>\n",
       "      <td>coffe</td>\n",
       "      <td>0.001873</td>\n",
       "    </tr>\n",
       "    <tr>\n",
       "      <th>36613</th>\n",
       "      <td>water</td>\n",
       "      <td>0.001871</td>\n",
       "    </tr>\n",
       "    <tr>\n",
       "      <th>10294</th>\n",
       "      <td>cup</td>\n",
       "      <td>0.001850</td>\n",
       "    </tr>\n",
       "    <tr>\n",
       "      <th>35825</th>\n",
       "      <td>use</td>\n",
       "      <td>0.001659</td>\n",
       "    </tr>\n",
       "    <tr>\n",
       "      <th>5541</th>\n",
       "      <td>best</td>\n",
       "      <td>0.001584</td>\n",
       "    </tr>\n",
       "    <tr>\n",
       "      <th>23390</th>\n",
       "      <td>new</td>\n",
       "      <td>0.001568</td>\n",
       "    </tr>\n",
       "    <tr>\n",
       "      <th>20814</th>\n",
       "      <td>looking</td>\n",
       "      <td>0.001530</td>\n",
       "    </tr>\n",
       "    <tr>\n",
       "      <th>12130</th>\n",
       "      <td>drink</td>\n",
       "      <td>0.001517</td>\n",
       "    </tr>\n",
       "    <tr>\n",
       "      <th>34238</th>\n",
       "      <td>time</td>\n",
       "      <td>0.001451</td>\n",
       "    </tr>\n",
       "    <tr>\n",
       "      <th>26535</th>\n",
       "      <td>press</td>\n",
       "      <td>0.001427</td>\n",
       "    </tr>\n",
       "    <tr>\n",
       "      <th>36518</th>\n",
       "      <td>want</td>\n",
       "      <td>0.001425</td>\n",
       "    </tr>\n",
       "    <tr>\n",
       "      <th>8898</th>\n",
       "      <td>cold</td>\n",
       "      <td>0.001424</td>\n",
       "    </tr>\n",
       "    <tr>\n",
       "      <th>35853</th>\n",
       "      <td>using</td>\n",
       "      <td>0.001376</td>\n",
       "    </tr>\n",
       "    <tr>\n",
       "      <th>15004</th>\n",
       "      <td>french</td>\n",
       "      <td>0.001351</td>\n",
       "    </tr>\n",
       "    <tr>\n",
       "      <th>33243</th>\n",
       "      <td>taste</td>\n",
       "      <td>0.001329</td>\n",
       "    </tr>\n",
       "    <tr>\n",
       "      <th>26263</th>\n",
       "      <td>pour</td>\n",
       "      <td>0.001302</td>\n",
       "    </tr>\n",
       "    <tr>\n",
       "      <th>26222</th>\n",
       "      <td>pot</td>\n",
       "      <td>0.001277</td>\n",
       "    </tr>\n",
       "    <tr>\n",
       "      <th>17034</th>\n",
       "      <td>help</td>\n",
       "      <td>0.001272</td>\n",
       "    </tr>\n",
       "    <tr>\n",
       "      <th>22173</th>\n",
       "      <td>milk</td>\n",
       "      <td>0.001235</td>\n",
       "    </tr>\n",
       "    <tr>\n",
       "      <th>22555</th>\n",
       "      <td>moka</td>\n",
       "      <td>0.001218</td>\n",
       "    </tr>\n",
       "    <tr>\n",
       "      <th>28934</th>\n",
       "      <td>roast</td>\n",
       "      <td>0.001189</td>\n",
       "    </tr>\n",
       "    <tr>\n",
       "      <th>23265</th>\n",
       "      <td>need</td>\n",
       "      <td>0.001154</td>\n",
       "    </tr>\n",
       "    <tr>\n",
       "      <th>3331</th>\n",
       "      <td>aeropress</td>\n",
       "      <td>0.001119</td>\n",
       "    </tr>\n",
       "  </tbody>\n",
       "</table>\n",
       "</div>"
      ],
      "text/plain": [
       "        Features      Prob\n",
       "8683      coffee  0.010750\n",
       "16205    grinder  0.002871\n",
       "13132   espresso  0.002774\n",
       "21139    machine  0.002396\n",
       "5262       beans  0.002366\n",
       "6479        brew  0.002079\n",
       "16196      grind  0.001956\n",
       "8680       coffe  0.001873\n",
       "36613      water  0.001871\n",
       "10294        cup  0.001850\n",
       "35825        use  0.001659\n",
       "5541        best  0.001584\n",
       "23390        new  0.001568\n",
       "20814    looking  0.001530\n",
       "12130      drink  0.001517\n",
       "34238       time  0.001451\n",
       "26535      press  0.001427\n",
       "36518       want  0.001425\n",
       "8898        cold  0.001424\n",
       "35853      using  0.001376\n",
       "15004     french  0.001351\n",
       "33243      taste  0.001329\n",
       "26263       pour  0.001302\n",
       "26222        pot  0.001277\n",
       "17034       help  0.001272\n",
       "22173       milk  0.001235\n",
       "22555       moka  0.001218\n",
       "28934      roast  0.001189\n",
       "23265       need  0.001154\n",
       "3331   aeropress  0.001119"
      ]
     },
     "execution_count": 20,
     "metadata": {},
     "output_type": "execute_result"
    }
   ],
   "source": [
    "# Listing the 30 best performing words for tea\n",
    "out_arr = pd.Series(naives.feature_log_prob_[1], index = coffee_tea_tfid.columns).to_frame()\n",
    "out_arr.sort_values(by=0, ascending=False)\n",
    "out_arr.reset_index(inplace=True)\n",
    "out_arr = out_arr.rename(columns={'index': 'Features', 0: 'Prob'})\n",
    "out_arr['Prob'] = np.exp(out_arr['Prob'])\n",
    "out_arr.sort_values(by='Prob', ascending=False).head(30)"
   ]
  },
  {
   "cell_type": "markdown",
   "id": "17f17434-2647-4300-8086-df9a14c2590d",
   "metadata": {},
   "source": [
    "Of the lists, 16 words have been earmarked to be removed."
   ]
  },
  {
   "cell_type": "code",
   "execution_count": 21,
   "id": "1ab06b06-7f18-47f0-bad1-c113cdf830a9",
   "metadata": {},
   "outputs": [],
   "source": [
    "# Removal of obvious words\n",
    "obvious_words = [\"tea\", \"teas\", \"teapot\", \"matcha\", \"oolong\", \"leaf\", \"leaves\", \"coffee\", \"grinder\", \"espresso\", \"beans\", \"brew\", \"grind\", \"coffe\", \"roast\", \"aeropress\"] \n",
    "coffee_tea_df['text_cleaned'] = coffee_tea_df['text_cleaned'].apply(obviouswords_cleaner)"
   ]
  },
  {
   "cell_type": "markdown",
   "id": "4c18e750-d2f3-48c5-8925-8f4e4c98764d",
   "metadata": {},
   "source": [
    "## 4. Rerunning Baseline Models: NB, KNN, Random Forest & Log Reg"
   ]
  },
  {
   "cell_type": "markdown",
   "id": "034273fb-8f7b-4ca0-9d1e-dd34b510a8d8",
   "metadata": {},
   "source": [
    "Given the removal of the obvious words, I shall rerun the baseline naive bayes model together with other base models such as k-nearest neighbor, random forest and logistic regression."
   ]
  },
  {
   "cell_type": "code",
   "execution_count": 22,
   "id": "595d80dc-7bbe-43e1-8661-15520807c09d",
   "metadata": {},
   "outputs": [],
   "source": [
    "# Applying tfid vectorization again given that obvious words have been removed\n",
    "tfid = TfidfVectorizer(stop_words='english')\n",
    "coffee_tea_tfid = tfid.fit_transform(coffee_tea_df['text_cleaned'])"
   ]
  },
  {
   "cell_type": "code",
   "execution_count": 23,
   "id": "ced2ce33-5ac4-41ce-88d8-70182c4ca2e1",
   "metadata": {},
   "outputs": [],
   "source": [
    "warnings.simplefilter(action='ignore', category=FutureWarning)\n",
    "coffee_tea_tfid = pd.DataFrame.sparse.from_spmatrix(coffee_tea_tfid, columns = tfid.get_feature_names())"
   ]
  },
  {
   "cell_type": "code",
   "execution_count": 24,
   "id": "e25ea22e-850d-4c1e-9b5d-9c02c87c0ef2",
   "metadata": {},
   "outputs": [],
   "source": [
    "X = coffee_tea_tfid\n",
    "y = coffee_tea_df['subreddit']\n",
    "X_train, X_test, y_train, y_test = train_test_split(X, y, random_state = 42, stratify=y)"
   ]
  },
  {
   "cell_type": "markdown",
   "id": "b7f50681-f7f0-4619-a055-53059c7d938f",
   "metadata": {},
   "source": [
    "### Base: Naives Bayes"
   ]
  },
  {
   "cell_type": "code",
   "execution_count": 25,
   "id": "1a33abb3-7b63-4d42-8860-066291b08fdd",
   "metadata": {},
   "outputs": [],
   "source": [
    "nb = MultinomialNB()\n",
    "nb = nb.fit(X_train, y_train)"
   ]
  },
  {
   "cell_type": "code",
   "execution_count": 26,
   "id": "1ce0bf75-34d5-4d6f-9562-0ad62f289c2f",
   "metadata": {},
   "outputs": [
    {
     "name": "stdout",
     "output_type": "stream",
     "text": [
      "MultinomialNB() train score: 0.912\n",
      "MultinomialNB() train score: 0.855\n"
     ]
    }
   ],
   "source": [
    "print_score(nb, X_train, y_train, X_test, y_test)"
   ]
  },
  {
   "cell_type": "markdown",
   "id": "43e382de-6f26-4715-9b7f-aa2085047173",
   "metadata": {},
   "source": [
    "### Base: K-Nearest Neighbor"
   ]
  },
  {
   "cell_type": "code",
   "execution_count": 27,
   "id": "8d301304-eada-46f1-80ba-90fab8e140a6",
   "metadata": {},
   "outputs": [],
   "source": [
    "knn = KNeighborsClassifier()\n",
    "knn = knn.fit(X_train, y_train)"
   ]
  },
  {
   "cell_type": "code",
   "execution_count": 28,
   "id": "9d7fe85a-a0cb-436e-ac17-d7e5ffd44dfe",
   "metadata": {},
   "outputs": [
    {
     "name": "stdout",
     "output_type": "stream",
     "text": [
      "KNeighborsClassifier() train score: 0.728\n",
      "KNeighborsClassifier() train score: 0.539\n"
     ]
    }
   ],
   "source": [
    "print_score(knn, X_train, y_train, X_test, y_test)"
   ]
  },
  {
   "cell_type": "markdown",
   "id": "77c82378-4ffa-45c7-a405-1c55e4063052",
   "metadata": {},
   "source": [
    "### Base: Random Forest"
   ]
  },
  {
   "cell_type": "code",
   "execution_count": 29,
   "id": "996794e5-19fc-4433-87c3-3ed3d05c5104",
   "metadata": {},
   "outputs": [
    {
     "data": {
      "text/html": [
       "<style>#sk-container-id-1 {color: black;background-color: white;}#sk-container-id-1 pre{padding: 0;}#sk-container-id-1 div.sk-toggleable {background-color: white;}#sk-container-id-1 label.sk-toggleable__label {cursor: pointer;display: block;width: 100%;margin-bottom: 0;padding: 0.3em;box-sizing: border-box;text-align: center;}#sk-container-id-1 label.sk-toggleable__label-arrow:before {content: \"▸\";float: left;margin-right: 0.25em;color: #696969;}#sk-container-id-1 label.sk-toggleable__label-arrow:hover:before {color: black;}#sk-container-id-1 div.sk-estimator:hover label.sk-toggleable__label-arrow:before {color: black;}#sk-container-id-1 div.sk-toggleable__content {max-height: 0;max-width: 0;overflow: hidden;text-align: left;background-color: #f0f8ff;}#sk-container-id-1 div.sk-toggleable__content pre {margin: 0.2em;color: black;border-radius: 0.25em;background-color: #f0f8ff;}#sk-container-id-1 input.sk-toggleable__control:checked~div.sk-toggleable__content {max-height: 200px;max-width: 100%;overflow: auto;}#sk-container-id-1 input.sk-toggleable__control:checked~label.sk-toggleable__label-arrow:before {content: \"▾\";}#sk-container-id-1 div.sk-estimator input.sk-toggleable__control:checked~label.sk-toggleable__label {background-color: #d4ebff;}#sk-container-id-1 div.sk-label input.sk-toggleable__control:checked~label.sk-toggleable__label {background-color: #d4ebff;}#sk-container-id-1 input.sk-hidden--visually {border: 0;clip: rect(1px 1px 1px 1px);clip: rect(1px, 1px, 1px, 1px);height: 1px;margin: -1px;overflow: hidden;padding: 0;position: absolute;width: 1px;}#sk-container-id-1 div.sk-estimator {font-family: monospace;background-color: #f0f8ff;border: 1px dotted black;border-radius: 0.25em;box-sizing: border-box;margin-bottom: 0.5em;}#sk-container-id-1 div.sk-estimator:hover {background-color: #d4ebff;}#sk-container-id-1 div.sk-parallel-item::after {content: \"\";width: 100%;border-bottom: 1px solid gray;flex-grow: 1;}#sk-container-id-1 div.sk-label:hover label.sk-toggleable__label {background-color: #d4ebff;}#sk-container-id-1 div.sk-serial::before {content: \"\";position: absolute;border-left: 1px solid gray;box-sizing: border-box;top: 0;bottom: 0;left: 50%;z-index: 0;}#sk-container-id-1 div.sk-serial {display: flex;flex-direction: column;align-items: center;background-color: white;padding-right: 0.2em;padding-left: 0.2em;position: relative;}#sk-container-id-1 div.sk-item {position: relative;z-index: 1;}#sk-container-id-1 div.sk-parallel {display: flex;align-items: stretch;justify-content: center;background-color: white;position: relative;}#sk-container-id-1 div.sk-item::before, #sk-container-id-1 div.sk-parallel-item::before {content: \"\";position: absolute;border-left: 1px solid gray;box-sizing: border-box;top: 0;bottom: 0;left: 50%;z-index: -1;}#sk-container-id-1 div.sk-parallel-item {display: flex;flex-direction: column;z-index: 1;position: relative;background-color: white;}#sk-container-id-1 div.sk-parallel-item:first-child::after {align-self: flex-end;width: 50%;}#sk-container-id-1 div.sk-parallel-item:last-child::after {align-self: flex-start;width: 50%;}#sk-container-id-1 div.sk-parallel-item:only-child::after {width: 0;}#sk-container-id-1 div.sk-dashed-wrapped {border: 1px dashed gray;margin: 0 0.4em 0.5em 0.4em;box-sizing: border-box;padding-bottom: 0.4em;background-color: white;}#sk-container-id-1 div.sk-label label {font-family: monospace;font-weight: bold;display: inline-block;line-height: 1.2em;}#sk-container-id-1 div.sk-label-container {text-align: center;}#sk-container-id-1 div.sk-container {/* jupyter's `normalize.less` sets `[hidden] { display: none; }` but bootstrap.min.css set `[hidden] { display: none !important; }` so we also need the `!important` here to be able to override the default hidden behavior on the sphinx rendered scikit-learn.org. See: https://github.com/scikit-learn/scikit-learn/issues/21755 */display: inline-block !important;position: relative;}#sk-container-id-1 div.sk-text-repr-fallback {display: none;}</style><div id=\"sk-container-id-1\" class=\"sk-top-container\"><div class=\"sk-text-repr-fallback\"><pre>RandomForestClassifier()</pre><b>In a Jupyter environment, please rerun this cell to show the HTML representation or trust the notebook. <br />On GitHub, the HTML representation is unable to render, please try loading this page with nbviewer.org.</b></div><div class=\"sk-container\" hidden><div class=\"sk-item\"><div class=\"sk-estimator sk-toggleable\"><input class=\"sk-toggleable__control sk-hidden--visually\" id=\"sk-estimator-id-1\" type=\"checkbox\" checked><label for=\"sk-estimator-id-1\" class=\"sk-toggleable__label sk-toggleable__label-arrow\">RandomForestClassifier</label><div class=\"sk-toggleable__content\"><pre>RandomForestClassifier()</pre></div></div></div></div></div>"
      ],
      "text/plain": [
       "RandomForestClassifier()"
      ]
     },
     "execution_count": 29,
     "metadata": {},
     "output_type": "execute_result"
    }
   ],
   "source": [
    "rf = RandomForestClassifier()\n",
    "rf.fit(X_train, y_train)"
   ]
  },
  {
   "cell_type": "code",
   "execution_count": 30,
   "id": "e6b3780f-6d4a-4157-93d6-4070ea28b039",
   "metadata": {},
   "outputs": [
    {
     "name": "stdout",
     "output_type": "stream",
     "text": [
      "RandomForestClassifier() train score: 0.996\n",
      "RandomForestClassifier() train score: 0.843\n"
     ]
    }
   ],
   "source": [
    "print_score(rf, X_train, y_train, X_test, y_test)"
   ]
  },
  {
   "cell_type": "markdown",
   "id": "fd543090-035f-4712-8c45-4ec368f42776",
   "metadata": {},
   "source": [
    "### Base: Logistic Regression"
   ]
  },
  {
   "cell_type": "code",
   "execution_count": 31,
   "id": "be492f62-c5f6-435a-b27c-423e455ffa69",
   "metadata": {},
   "outputs": [
    {
     "data": {
      "text/html": [
       "<style>#sk-container-id-2 {color: black;background-color: white;}#sk-container-id-2 pre{padding: 0;}#sk-container-id-2 div.sk-toggleable {background-color: white;}#sk-container-id-2 label.sk-toggleable__label {cursor: pointer;display: block;width: 100%;margin-bottom: 0;padding: 0.3em;box-sizing: border-box;text-align: center;}#sk-container-id-2 label.sk-toggleable__label-arrow:before {content: \"▸\";float: left;margin-right: 0.25em;color: #696969;}#sk-container-id-2 label.sk-toggleable__label-arrow:hover:before {color: black;}#sk-container-id-2 div.sk-estimator:hover label.sk-toggleable__label-arrow:before {color: black;}#sk-container-id-2 div.sk-toggleable__content {max-height: 0;max-width: 0;overflow: hidden;text-align: left;background-color: #f0f8ff;}#sk-container-id-2 div.sk-toggleable__content pre {margin: 0.2em;color: black;border-radius: 0.25em;background-color: #f0f8ff;}#sk-container-id-2 input.sk-toggleable__control:checked~div.sk-toggleable__content {max-height: 200px;max-width: 100%;overflow: auto;}#sk-container-id-2 input.sk-toggleable__control:checked~label.sk-toggleable__label-arrow:before {content: \"▾\";}#sk-container-id-2 div.sk-estimator input.sk-toggleable__control:checked~label.sk-toggleable__label {background-color: #d4ebff;}#sk-container-id-2 div.sk-label input.sk-toggleable__control:checked~label.sk-toggleable__label {background-color: #d4ebff;}#sk-container-id-2 input.sk-hidden--visually {border: 0;clip: rect(1px 1px 1px 1px);clip: rect(1px, 1px, 1px, 1px);height: 1px;margin: -1px;overflow: hidden;padding: 0;position: absolute;width: 1px;}#sk-container-id-2 div.sk-estimator {font-family: monospace;background-color: #f0f8ff;border: 1px dotted black;border-radius: 0.25em;box-sizing: border-box;margin-bottom: 0.5em;}#sk-container-id-2 div.sk-estimator:hover {background-color: #d4ebff;}#sk-container-id-2 div.sk-parallel-item::after {content: \"\";width: 100%;border-bottom: 1px solid gray;flex-grow: 1;}#sk-container-id-2 div.sk-label:hover label.sk-toggleable__label {background-color: #d4ebff;}#sk-container-id-2 div.sk-serial::before {content: \"\";position: absolute;border-left: 1px solid gray;box-sizing: border-box;top: 0;bottom: 0;left: 50%;z-index: 0;}#sk-container-id-2 div.sk-serial {display: flex;flex-direction: column;align-items: center;background-color: white;padding-right: 0.2em;padding-left: 0.2em;position: relative;}#sk-container-id-2 div.sk-item {position: relative;z-index: 1;}#sk-container-id-2 div.sk-parallel {display: flex;align-items: stretch;justify-content: center;background-color: white;position: relative;}#sk-container-id-2 div.sk-item::before, #sk-container-id-2 div.sk-parallel-item::before {content: \"\";position: absolute;border-left: 1px solid gray;box-sizing: border-box;top: 0;bottom: 0;left: 50%;z-index: -1;}#sk-container-id-2 div.sk-parallel-item {display: flex;flex-direction: column;z-index: 1;position: relative;background-color: white;}#sk-container-id-2 div.sk-parallel-item:first-child::after {align-self: flex-end;width: 50%;}#sk-container-id-2 div.sk-parallel-item:last-child::after {align-self: flex-start;width: 50%;}#sk-container-id-2 div.sk-parallel-item:only-child::after {width: 0;}#sk-container-id-2 div.sk-dashed-wrapped {border: 1px dashed gray;margin: 0 0.4em 0.5em 0.4em;box-sizing: border-box;padding-bottom: 0.4em;background-color: white;}#sk-container-id-2 div.sk-label label {font-family: monospace;font-weight: bold;display: inline-block;line-height: 1.2em;}#sk-container-id-2 div.sk-label-container {text-align: center;}#sk-container-id-2 div.sk-container {/* jupyter's `normalize.less` sets `[hidden] { display: none; }` but bootstrap.min.css set `[hidden] { display: none !important; }` so we also need the `!important` here to be able to override the default hidden behavior on the sphinx rendered scikit-learn.org. See: https://github.com/scikit-learn/scikit-learn/issues/21755 */display: inline-block !important;position: relative;}#sk-container-id-2 div.sk-text-repr-fallback {display: none;}</style><div id=\"sk-container-id-2\" class=\"sk-top-container\"><div class=\"sk-text-repr-fallback\"><pre>LogisticRegression()</pre><b>In a Jupyter environment, please rerun this cell to show the HTML representation or trust the notebook. <br />On GitHub, the HTML representation is unable to render, please try loading this page with nbviewer.org.</b></div><div class=\"sk-container\" hidden><div class=\"sk-item\"><div class=\"sk-estimator sk-toggleable\"><input class=\"sk-toggleable__control sk-hidden--visually\" id=\"sk-estimator-id-2\" type=\"checkbox\" checked><label for=\"sk-estimator-id-2\" class=\"sk-toggleable__label sk-toggleable__label-arrow\">LogisticRegression</label><div class=\"sk-toggleable__content\"><pre>LogisticRegression()</pre></div></div></div></div></div>"
      ],
      "text/plain": [
       "LogisticRegression()"
      ]
     },
     "execution_count": 31,
     "metadata": {},
     "output_type": "execute_result"
    }
   ],
   "source": [
    "logreg = LogisticRegression()\n",
    "logreg.fit(X_train, y_train)"
   ]
  },
  {
   "cell_type": "code",
   "execution_count": 32,
   "id": "a0051a8d-7cfc-46cb-9295-b4534e54305c",
   "metadata": {},
   "outputs": [
    {
     "name": "stdout",
     "output_type": "stream",
     "text": [
      "LogisticRegression() train score: 0.936\n",
      "LogisticRegression() train score: 0.867\n"
     ]
    }
   ],
   "source": [
    "print_score(logreg, X_train, y_train, X_test, y_test)"
   ]
  },
  {
   "cell_type": "markdown",
   "id": "5ebf9533-937b-4459-b297-5f7473179637",
   "metadata": {},
   "source": [
    "### Evaluation of Base Models"
   ]
  },
  {
   "cell_type": "markdown",
   "id": "098c215d-0247-4df7-9825-8163128e94e5",
   "metadata": {},
   "source": [
    "| Index | Model Name | Base Training Accuracy Score | Base Test Accuracy Score| \n",
    "|:---:|:---:|:---:|:---:|\n",
    "| 1 | Naives Bayes | 0.912 |  0.855  | \n",
    "| 2 | K-Nearest Neighbor | 0.728 | 0.539  | \n",
    "| 3 | Random Forest | 0.996 | 0.846 | \n",
    "| 4 | Logistic Regression | 0.936 | 0.867 |"
   ]
  },
  {
   "cell_type": "markdown",
   "id": "d93a1d77-cb9e-4f7e-8124-bf3229acf33b",
   "metadata": {},
   "source": [
    "1. After removing the obvious words from the dataset, the performance of modelling clearly performs worst. For instance, the train score of naives baynes dropped from 0.931 to 0.855. It is safe to resume that this would have been true for the other models should they undergo the same modelling with the obvious words.\n",
    "2. Given the low test score of 0.539, k-nearest neighbor is clearly the worse model. The rest of the models are comparable in accuracy based on test score. Nevertheless, all models have clear sign of overfitting with the random forest being the most obvious due to its almost perfect training score.\n",
    "3. Hyperparameter tuning will be applied for all the models in order to increase the accuracy of the test score and to lower the degree of overfitting."
   ]
  },
  {
   "cell_type": "markdown",
   "id": "517efd11-9bb5-499a-b390-a23df640b600",
   "metadata": {},
   "source": [
    "## 5. HyperPara Models: NB, KNN, Random Forest & Log Reg"
   ]
  },
  {
   "cell_type": "markdown",
   "id": "040b8ed2-bbf4-4db6-8c1c-d2850dbc855b",
   "metadata": {},
   "source": [
    "We shall proceed to apply hyperparameter tuning in order to improve the results of the base models."
   ]
  },
  {
   "cell_type": "markdown",
   "id": "05767635-4c97-4f25-816a-22a9912c55af",
   "metadata": {},
   "source": [
    "### HyperPara: Naives Bayes"
   ]
  },
  {
   "cell_type": "code",
   "execution_count": 33,
   "id": "5d998a19-d6df-4958-a959-da57ef5e998d",
   "metadata": {},
   "outputs": [],
   "source": [
    "nb_params = {\n",
    "    'alpha': [0.11, 0.12],\n",
    "    'fit_prior':[True, False]}"
   ]
  },
  {
   "cell_type": "code",
   "execution_count": 34,
   "id": "a14a01a1-9bc9-47fc-bf26-d3e321366743",
   "metadata": {},
   "outputs": [],
   "source": [
    "nb_gridsearch = GridSearchCV(MultinomialNB(),\n",
    "                              nb_params, \n",
    "                              cv=5, \n",
    "                              verbose=1, \n",
    "                              n_jobs=-1 \n",
    "                             )"
   ]
  },
  {
   "cell_type": "code",
   "execution_count": 35,
   "id": "36d9ac5e-c3f0-4d54-b680-9a079960717f",
   "metadata": {},
   "outputs": [
    {
     "name": "stdout",
     "output_type": "stream",
     "text": [
      "Fitting 5 folds for each of 4 candidates, totalling 20 fits\n"
     ]
    }
   ],
   "source": [
    "# This code will take awhile to run\n",
    "nb_gridsearch.fit(X_train, y_train);"
   ]
  },
  {
   "cell_type": "code",
   "execution_count": 36,
   "id": "8f1a34fe-bef3-480b-8787-6e22249ca81e",
   "metadata": {},
   "outputs": [
    {
     "name": "stdout",
     "output_type": "stream",
     "text": [
      "Train score: 0.866\n",
      "Test score: 0.861\n",
      "Best parameters: {'alpha': 0.11, 'fit_prior': True}\n"
     ]
    }
   ],
   "source": [
    "gridsearch_score(nb_gridsearch, X_train, y_train, X_test, y_test)"
   ]
  },
  {
   "cell_type": "markdown",
   "id": "a3e509f7-dccc-4d83-92a2-28d247c0ea9a",
   "metadata": {},
   "source": [
    "### HyperPara: K-Nearest Neighbor"
   ]
  },
  {
   "cell_type": "code",
   "execution_count": 37,
   "id": "81f2ebd0-f5ae-40f3-9604-6a077ac6696b",
   "metadata": {},
   "outputs": [],
   "source": [
    "knn_params = {\n",
    "    'n_neighbors': range(3, 8, 2),\n",
    "    'weights': ['uniform', 'distance'],\n",
    "    'metric': ['euclidean', 'manhattan']}"
   ]
  },
  {
   "cell_type": "code",
   "execution_count": 38,
   "id": "c1ac2cac-682c-477e-b7b5-d69cb35149cc",
   "metadata": {},
   "outputs": [],
   "source": [
    "knn_gridsearch = GridSearchCV(KNeighborsClassifier(), # estimator: What is the model we want to fit?\n",
    "                              knn_params, # param_grid: What is the dictionary of hyperparameters?\n",
    "                              cv=5, # What number of folds in CV will we use?\n",
    "                              verbose=1, # Display limited output post grid searching\n",
    "                              n_jobs=-1 # Use all CPU cores on your computer to speed up the fit\n",
    "                             )"
   ]
  },
  {
   "cell_type": "code",
   "execution_count": 39,
   "id": "9aa29149-2225-4030-8e04-d5aca9aeef0e",
   "metadata": {},
   "outputs": [
    {
     "name": "stdout",
     "output_type": "stream",
     "text": [
      "Fitting 5 folds for each of 12 candidates, totalling 60 fits\n"
     ]
    }
   ],
   "source": [
    "# This code will take awhile to run\n",
    "knn_gridsearch.fit(X_train, y_train);"
   ]
  },
  {
   "cell_type": "code",
   "execution_count": 40,
   "id": "3a79f841-41c3-4e39-b891-b44e0af8c1ac",
   "metadata": {},
   "outputs": [
    {
     "name": "stdout",
     "output_type": "stream",
     "text": [
      "Train score: 0.591\n",
      "Test score: 0.621\n",
      "Best parameters: {'metric': 'euclidean', 'n_neighbors': 3, 'weights': 'distance'}\n"
     ]
    }
   ],
   "source": [
    "gridsearch_score(knn_gridsearch, X_train, y_train, X_test, y_test)"
   ]
  },
  {
   "cell_type": "markdown",
   "id": "c278c849-6115-43f8-9932-c89c798af73b",
   "metadata": {},
   "source": [
    "### HyperPara: Random Forest"
   ]
  },
  {
   "cell_type": "code",
   "execution_count": 41,
   "id": "9e48c730-7368-45cd-acfc-1632e9c9ddee",
   "metadata": {},
   "outputs": [],
   "source": [
    "rf_params = {\n",
    "    'n_estimators': [120, 130],\n",
    "    'criterion':['entropy', 'log_loss'],\n",
    "    'max_depth':[110, 115],\n",
    "    'min_samples_split': [30, 40]}"
   ]
  },
  {
   "cell_type": "code",
   "execution_count": 42,
   "id": "904e2912-c32f-4607-a418-e061df34acfe",
   "metadata": {},
   "outputs": [],
   "source": [
    "rf_gridsearch = GridSearchCV(RandomForestClassifier(),\n",
    "                              rf_params, \n",
    "                              cv=5, \n",
    "                              verbose=1, \n",
    "                              n_jobs=-1 \n",
    "                             )"
   ]
  },
  {
   "cell_type": "code",
   "execution_count": 43,
   "id": "700b4570-2a36-4e03-9a2f-73fb987c2acd",
   "metadata": {},
   "outputs": [
    {
     "name": "stdout",
     "output_type": "stream",
     "text": [
      "Fitting 5 folds for each of 16 candidates, totalling 80 fits\n"
     ]
    }
   ],
   "source": [
    "# This code will take awhile to run\n",
    "rf_gridsearch.fit(X_train, y_train);"
   ]
  },
  {
   "cell_type": "code",
   "execution_count": 44,
   "id": "4080dfae-2eaa-4da4-a1a6-b91921441019",
   "metadata": {},
   "outputs": [
    {
     "name": "stdout",
     "output_type": "stream",
     "text": [
      "Train score: 0.836\n",
      "Test score: 0.832\n",
      "Best parameters: {'criterion': 'entropy', 'max_depth': 110, 'min_samples_split': 30, 'n_estimators': 130}\n"
     ]
    }
   ],
   "source": [
    "gridsearch_score(rf_gridsearch, X_train, y_train, X_test, y_test)"
   ]
  },
  {
   "cell_type": "markdown",
   "id": "2e00c4dd-ad10-4094-a6d1-02b641640ab8",
   "metadata": {},
   "source": [
    "### HyperPara: Logistic Regression"
   ]
  },
  {
   "cell_type": "code",
   "execution_count": 45,
   "id": "3c13f9b8-3cc4-4ebc-8efd-709e2505a5ba",
   "metadata": {},
   "outputs": [],
   "source": [
    "lr_params = {\n",
    "    'penalty': ['l1', 'l2'],\n",
    "    'C':[3.3, 3.4, 3.5],\n",
    "    'class_weight':[None, 'balanced'],\n",
    "    'solver': ['saga']}"
   ]
  },
  {
   "cell_type": "code",
   "execution_count": 46,
   "id": "a011f461-1656-4e88-858b-d9475a7c9e2c",
   "metadata": {},
   "outputs": [],
   "source": [
    "lr_gridsearch = GridSearchCV(LogisticRegression(),\n",
    "                              lr_params, \n",
    "                              cv=5, \n",
    "                              verbose=1, \n",
    "                              n_jobs=-1 \n",
    "                             )"
   ]
  },
  {
   "cell_type": "code",
   "execution_count": 47,
   "id": "3b04940d-a4bd-4994-b40a-4564353cf346",
   "metadata": {},
   "outputs": [
    {
     "name": "stdout",
     "output_type": "stream",
     "text": [
      "Fitting 5 folds for each of 12 candidates, totalling 60 fits\n"
     ]
    }
   ],
   "source": [
    "# This code will take awhile to run\n",
    "lr_gridsearch.fit(X_train, y_train);"
   ]
  },
  {
   "cell_type": "code",
   "execution_count": 48,
   "id": "488f9c29-2442-4fb0-b70e-2bd734b62077",
   "metadata": {},
   "outputs": [
    {
     "name": "stdout",
     "output_type": "stream",
     "text": [
      "Train score: 0.869\n",
      "Test score: 0.871\n",
      "Best parameters: {'C': 3.5, 'class_weight': None, 'penalty': 'l2', 'solver': 'saga'}\n"
     ]
    }
   ],
   "source": [
    "gridsearch_score(lr_gridsearch, X_train, y_train, X_test, y_test)"
   ]
  },
  {
   "cell_type": "markdown",
   "id": "20f89895-b6cc-4dc1-80ec-2218ca773f08",
   "metadata": {},
   "source": [
    "### Evaluation of HyperPara Models"
   ]
  },
  {
   "cell_type": "markdown",
   "id": "d981bcb5-acc8-437d-a946-36fd4bdd27cf",
   "metadata": {},
   "source": [
    "| Index | Model Name | Base Training Accuracy Score | Base Test Accuracy Score| HyperPara Training Accuracy Score | HyperPara Test Accuracy Score| Best Parameters |\n",
    "|:---:|:---:|:---:|:---:|:---:|:---:|:---|\n",
    "| 1 | Naives Bayes | 0.912 |  0.855  | 0.866 | 0.861 | <ul><li>alpha: 0.11</li><li>fit_prior: True</li></ul> |\n",
    "| 2 | K-Nearest Neighbor | 0.728 | 0.539  | 0.591 | 0.621 | <ul><li>n_neighbors: 3</li><li>metric: euclidean</li><li>weights: distance</li></ul> |\n",
    "| 3 | Random Forest | 0.996 | 0.846 | 0.836 | 0.833 | <ul><li>criterion: entropy</li><li>max_depth: 110</li><li>min_samples_split: 30</li><li>n_estimators: 125</li></ul> |\n",
    "| 4 | Logistic Regression | 0.936 | 0.867 | 0.869 | 0.871 | <ul><li>C: 3.4</li><li>class_weight: None</li><li>penalty: l2</li><li>solver: saga</li></ul> |"
   ]
  },
  {
   "cell_type": "markdown",
   "id": "573b8cc6-a5ff-4a52-9b3a-28fad4f83650",
   "metadata": {},
   "source": [
    "1. Most models, apart from random forest, showed improvement on the accurancy based on test score. \n",
    "2. Despite the improvement, k-nearest neighbor is still the worst performing model.\n",
    "3. All models were able to minimise the issue of overfitting through hyperparameter tuning by achieving a training accuracy score that is closer to the test accuracy score. \n",
    "4. With a test accuracy score of 0.871, logistic regression is clearly the best model. Furthermore, its training accuracy score differs from its test accuracy score by just 0.002. \n",
    "5. I shall provide further visualisations below for the logistic regression model."
   ]
  },
  {
   "cell_type": "markdown",
   "id": "e2a23871-4bae-490b-98ca-fc0b10e243de",
   "metadata": {},
   "source": [
    "### Receiver Operating Characteristic (ROC) Graph"
   ]
  },
  {
   "cell_type": "code",
   "execution_count": 49,
   "id": "398a6846-f882-4665-873f-7f828a3acd39",
   "metadata": {},
   "outputs": [
    {
     "data": {
      "text/plain": [
       "<Figure size 1152x576 with 0 Axes>"
      ]
     },
     "metadata": {},
     "output_type": "display_data"
    },
    {
     "data": {
      "image/png": "[encoded data removed]",
      "text/plain": [
       "<Figure size 432x288 with 1 Axes>"
      ]
     },
     "metadata": {
      "needs_background": "light"
     },
     "output_type": "display_data"
    }
   ],
   "source": [
    "# Visualization of ROC curves for the hyperparameter models\n",
    "fig = plt.figure(figsize=(16,8))\n",
    "fig = plot_roc_curve(lr_gridsearch, X_test, y_test, label=\"Logistic Regression\")\n",
    "plot_roc_curve(nb_gridsearch, X_test, y_test, ax = fig.ax_, label=\"Naives Bayes\")\n",
    "plot_roc_curve(rf_gridsearch, X_test, y_test, ax = fig.ax_, label=\"Random Forest\")\n",
    "plot_roc_curve(knn_gridsearch, X_test, y_test, ax = fig.ax_, label=\"K-Nearest Neighbor\")\n",
    "plt.plot([0, 1], [0, 1], label='baseline', linestyle='--') # to simulate random guess \n",
    "plt.legend()\n",
    "plt.title(\"ROC Curves for HyperPara Models\", size = 16)\n",
    "plt.show;"
   ]
  },
  {
   "cell_type": "markdown",
   "id": "480c7608-dc03-49e1-8ac1-57115dab7d1a",
   "metadata": {},
   "source": [
    "### Confusion Matrix of Best Model"
   ]
  },
  {
   "cell_type": "code",
   "execution_count": 50,
   "id": "5add09f1-a1af-4c3c-9fd9-ba303ebba83e",
   "metadata": {},
   "outputs": [
    {
     "data": {
      "image/png": "[encoded data removed]",
      "text/plain": [
       "<Figure size 432x288 with 2 Axes>"
      ]
     },
     "metadata": {
      "needs_background": "light"
     },
     "output_type": "display_data"
    }
   ],
   "source": [
    "preds = lr_gridsearch.predict(X_test)\n",
    "cm = confusion_matrix(y_test, preds)\n",
    "disp = ConfusionMatrixDisplay(confusion_matrix=cm, display_labels=['Tea', 'Coffee'])\n",
    "disp.plot();"
   ]
  },
  {
   "cell_type": "code",
   "execution_count": 51,
   "id": "cd490e5b-49cb-4d29-ad75-40cefa4924f4",
   "metadata": {},
   "outputs": [
    {
     "name": "stdout",
     "output_type": "stream",
     "text": [
      "Accurancy score: 0.871\n",
      "Recall score: 0.871\n"
     ]
    }
   ],
   "source": [
    "print(f'Accurancy score: {accuracy_score(y_test, preds):.3f}')\n",
    "print(f'Recall score: {recall_score(y_test, preds):.3f}')"
   ]
  },
  {
   "cell_type": "markdown",
   "id": "5b29f617-45eb-4013-9609-ec9aff64a20d",
   "metadata": {},
   "source": [
    "### Observation\n",
    "1. The ROC graph confirms that the logistic regression is the best model with a curve that is furthest away from the baseline as compared to the other models.\n",
    "2. The confusion matrix provides the visual on how the accuracy of the model is being calculated. Of interest to the project is only the accuracy score. Nevertheless, the matrix also helps us to see that the model is able to do a comparable job in classifying Coffee and Tea posts correctly with a score of 0.871 (recall score) and 0.872 (specificity score) respectively for each category. "
   ]
  },
  {
   "cell_type": "markdown",
   "id": "0dceea67-ad39-453a-aea9-a34b9b238423",
   "metadata": {},
   "source": [
    "## 6. Summary of Notebook 2"
   ]
  },
  {
   "cell_type": "markdown",
   "id": "d38ca332-4191-4672-974f-4f14ad746dac",
   "metadata": {},
   "source": [
    "| Model Name | Base Training Accuracy Score | Base Test Accuracy Score| HyperPara Training Accuracy Score | HyperPara Test Accuracy Score| Best Parameters |\n",
    "|:---:|:---:|:---:|:---:|:---:|:---|\n",
    "| Logistic Regression | 0.936 | 0.867 | 0.869 | 0.871 | <ul><li>C: 3.4</li><li>class_weight: None</li><li>penalty: l2</li><li>solver: saga</li></ul> |"
   ]
  },
  {
   "cell_type": "markdown",
   "id": "a609c6a2-56a8-4b08-8ddd-c244e758e90e",
   "metadata": {},
   "source": [
    "Below is a summary of the main findings covered in this notebook :-\n",
    "\n",
    "**1. Baseline Models**. \n",
    "   - Naives Bayes model was used as a base line model achieving a train score of 0.962 and test score of 0.931, which refers to the accurancy in prediction.\n",
    "   - In order to make the classification task more realistic, obvious words are removed based on the top 30 best performing words in predicting coffee and tea posts respectively.\n",
    "   - A further three models (K-Nearest Neighbor, Random Forest & Logistic Regression) were introduced as base models. As a reference point, the training and test scores of the Naives Bayes model decreased to 0.912 and 0.855 respectively.\n",
    "   - K-Nearest Neighbor is the worse performing model, while the remaining models are comparable in their test accuracy score. \n",
    "   - All models have evidence of overfitting with Random Forest being the most obvious with a near perfect training accuracy score.  "
   ]
  },
  {
   "cell_type": "markdown",
   "id": "d1e49bc7-f21e-473a-a32f-9d8a37c1e0f8",
   "metadata": {},
   "source": [
    "**2. HyperParameter Models.**\n",
    "   - Most models, apart from Random Forest, showed improvement on test accuracy score after hyperparamter tuning.\n",
    "   - All models were able to minimise the impact of overfitting by achieving a training accuracy score that is closer to the test accuracy score.\n",
    "   - K-Nearest Neighbor is still the worse performing model, while Logistic Regression is the best performing model (with the results indicated above).\n",
    "   - Logistic Regression is able to acheive the best test accurancy score with the training accuracy differing by just 0.02.\n",
    "   - Logistic Regression is able to do a comparable job in classifying Coffee and Tea posts correctly with a score of 0.871 (recall score) and 0.872 (specificity score) respectively for each category."
   ]
  }
 ],
 "metadata": {
  "kernelspec": {
   "display_name": "Python 3 (ipykernel)",
   "language": "python",
   "name": "python3"
  },
  "language_info": {
   "codemirror_mode": {
    "name": "ipython",
    "version": 3
   },
   "file_extension": ".py",
   "mimetype": "text/x-python",
   "name": "python",
   "nbconvert_exporter": "python",
   "pygments_lexer": "ipython3",
   "version": "3.8.13"
  }
 },
 "nbformat": 4,
 "nbformat_minor": 5
}
